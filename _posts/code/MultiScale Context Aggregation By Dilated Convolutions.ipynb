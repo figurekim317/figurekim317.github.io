{
 "cells": [
  {
   "cell_type": "code",
   "execution_count": 107,
   "metadata": {
    "ExecuteTime": {
     "end_time": "2021-03-12T19:45:28.501263Z",
     "start_time": "2021-03-12T19:45:27.816265Z"
    },
    "scrolled": true
   },
   "outputs": [
    {
     "name": "stdout",
     "output_type": "stream",
     "text": [
      "pytorch version: 1.4.0\n",
      "GPU 사용 가능 여부: True\n"
     ]
    }
   ],
   "source": [
    "import os\n",
    "import time\n",
    "import numpy as np\n",
    "import matplotlib.pyplot as plt\n",
    "import PIL\n",
    "import torch\n",
    "\n",
    "import torch.nn as nn\n",
    "import torch.optim as optim\n",
    "from torchvision import models\n",
    "from torchvision.models import vgg16\n",
    "from torchvision import datasets, transforms\n",
    "\n",
    "\n",
    "print('pytorch version: {}'.format(torch.__version__))\n",
    "print('GPU 사용 가능 여부: {}'.format(torch.cuda.is_available()))\n",
    "device = \"cuda\" if torch.cuda.is_available() else \"cpu\"   # GPU 사용 가능 여부에 따라 device 정보 저장"
   ]
  },
  {
   "cell_type": "markdown",
   "metadata": {},
   "source": [
    "### 네트워크 설계 I (Pretrained 된 모델 사용 X)"
   ]
  },
  {
   "cell_type": "markdown",
   "metadata": {},
   "source": [
    "### Front-end Module"
   ]
  },
  {
   "cell_type": "code",
   "execution_count": 108,
   "metadata": {
    "ExecuteTime": {
     "end_time": "2021-03-12T19:45:29.585663Z",
     "start_time": "2021-03-12T19:45:29.577663Z"
    }
   },
   "outputs": [],
   "source": [
    "import torch\n",
    "import torch.nn as nn\n",
    "\n",
    "\n",
    "def conv_relu(in_ch, out_ch, size=3, rate=1):\n",
    "    conv_relu = nn.Sequential(nn.Conv2d(in_channels=in_ch,\n",
    "                                        out_channels=out_ch,\n",
    "                                        kernel_size=3, \n",
    "                                        stride=1,\n",
    "                                        padding=rate,\n",
    "                                        dilation=rate),\n",
    "                              nn.ReLU())\n",
    "    return conv_relu            \n",
    "\n",
    "\n",
    "class VGG16(nn.Module):\n",
    "    def __init__(self):\n",
    "        super(VGG16, self).__init__()\n",
    "        \n",
    "        self.features1 = nn.Sequential(conv_relu(3, 64, 3, 1),\n",
    "                                       conv_relu(64, 64, 3, 1),\n",
    "                                       nn.MaxPool2d(2, stride=2, padding=0)) # 1/2\n",
    "        \n",
    "        self.features2 = nn.Sequential(conv_relu(64, 128, 3, 1),\n",
    "                                       conv_relu(128, 128, 3, 1),\n",
    "                                       nn.MaxPool2d(2, stride=2, padding=0)) # 1/4        \n",
    "        \n",
    "        self.features3 = nn.Sequential(conv_relu(128, 256, 3, 1),\n",
    "                                       conv_relu(256, 256, 3, 1),\n",
    "                                       conv_relu(256, 256, 3, 1),\n",
    "                                       nn.MaxPool2d(2, stride=2, padding=0)) # 1/8       \n",
    "        \n",
    "        self.features4 = nn.Sequential(conv_relu(256, 512, 3, 1),\n",
    "                                       conv_relu(512, 512, 3, 1),\n",
    "                                       conv_relu(512, 512, 3, 1))\n",
    "        \n",
    "                                       # and replace subsequent conv layer rate=2\n",
    "        self.features5 = nn.Sequential(conv_relu(512, 512, 3, 2),\n",
    "                                       conv_relu(512, 512, 3, 2),\n",
    "                                       conv_relu(512, 512, 3, 2))             \n",
    "        \n",
    "    def forward(self, x):\n",
    "        out = self.features1(x)\n",
    "        out = self.features2(out)\n",
    "        out = self.features3(out)\n",
    "        out = self.features4(out)\n",
    "        out = self.features5(out)\n",
    "        \n",
    "        return out"
   ]
  },
  {
   "cell_type": "code",
   "execution_count": 109,
   "metadata": {
    "ExecuteTime": {
     "end_time": "2021-03-12T19:45:29.936804Z",
     "start_time": "2021-03-12T19:45:29.932802Z"
    }
   },
   "outputs": [],
   "source": [
    "class classifier(nn.Module):\n",
    "    def __init__(self, num_classes): \n",
    "        super(classifier, self).__init__()\n",
    "        self.classifier = nn.Sequential(conv_relu(512, 4096, 7, rate=4), \n",
    "                                        nn.Dropout2d(0.5), \n",
    "                                        conv_relu(4096, 4096, 1, 1),\n",
    "                                        nn.Dropout2d(0.5), \n",
    "                                        nn.Conv2d(4096, num_classes, 1)\n",
    "                                        )\n",
    "    def forward(self, x): \n",
    "        out = self.classifier(x)\n",
    "        return out"
   ]
  },
  {
   "cell_type": "markdown",
   "metadata": {},
   "source": [
    "### Context Module\n",
    "\n",
    "A context module is constructed based on the dilated convolution as below:"
   ]
  },
  {
   "cell_type": "markdown",
   "metadata": {},
   "source": [
    "![image.png](https://miro.medium.com/max/1576/1*aj0ymQMfAOCXbvhnSlTY_w.png)"
   ]
  },
  {
   "cell_type": "code",
   "execution_count": 110,
   "metadata": {
    "ExecuteTime": {
     "end_time": "2021-03-12T19:45:31.088103Z",
     "start_time": "2021-03-12T19:45:31.082082Z"
    }
   },
   "outputs": [],
   "source": [
    "class BasicContextModule(nn.Module):\n",
    "    def __init__(self, num_classes):\n",
    "        super(BasicContextModule, self).__init__()\n",
    "        \n",
    "        self.layer1 = nn.Sequential(conv_relu(num_classes, num_classes, 3, 1))\n",
    "        self.layer2 = nn.Sequential(conv_relu(num_classes, num_classes, 3, 1))\n",
    "        self.layer3 = nn.Sequential(conv_relu(num_classes, num_classes, 3, 2))\n",
    "        self.layer4 = nn.Sequential(conv_relu(num_classes, num_classes, 3, 4))\n",
    "        self.layer5 = nn.Sequential(conv_relu(num_classes, num_classes, 3, 8))\n",
    "        self.layer6 = nn.Sequential(conv_relu(num_classes, num_classes, 3, 16))\n",
    "        self.layer7 = nn.Sequential(conv_relu(num_classes, num_classes, 3, 1))\n",
    "        # No Truncation \n",
    "        self.layer8 = nn.Sequential(nn.Conv2d(num_classes, num_classes, 1, 1))\n",
    "        \n",
    "    def forward(self, x): \n",
    "        \n",
    "        out = self.layer1(x)\n",
    "        out = self.layer2(x)\n",
    "        out = self.layer3(x)\n",
    "        out = self.layer4(x)\n",
    "        out = self.layer5(x)\n",
    "        out = self.layer6(x)\n",
    "        out = self.layer7(x)\n",
    "        out = self.layer8(x)\n",
    "        \n",
    "        return out"
   ]
  },
  {
   "cell_type": "markdown",
   "metadata": {},
   "source": [
    "### DilatedNet"
   ]
  },
  {
   "cell_type": "code",
   "execution_count": 111,
   "metadata": {
    "ExecuteTime": {
     "end_time": "2021-03-12T19:45:31.823116Z",
     "start_time": "2021-03-12T19:45:31.819139Z"
    }
   },
   "outputs": [],
   "source": [
    "class DilatedNet(nn.Module):\n",
    "\n",
    "    def __init__(self, backbone, classifier, context_module):\n",
    "        super(DilatedNet, self).__init__()\n",
    "        self.backbone = backbone\n",
    "        self.classifier = classifier\n",
    "        self.context_module = context_module\n",
    "        \n",
    "        self.deconv = nn.ConvTranspose2d(in_channels=21,\n",
    "                                         out_channels=21,\n",
    "                                         kernel_size=16,\n",
    "                                         stride=8,\n",
    "                                         padding=4)\n",
    "        \n",
    "    def forward(self, x):\n",
    "        x = self.backbone(x)\n",
    "        x = self.classifier(x)\n",
    "        x = self.context_module(x)\n",
    "        x = self.deconv(x)\n",
    "        return x"
   ]
  },
  {
   "cell_type": "code",
   "execution_count": 112,
   "metadata": {
    "ExecuteTime": {
     "end_time": "2021-03-12T19:45:47.023614Z",
     "start_time": "2021-03-12T19:45:32.229613Z"
    }
   },
   "outputs": [
    {
     "name": "stdout",
     "output_type": "stream",
     "text": [
      "input: torch.Size([1, 3, 512, 512])\n",
      "output: torch.Size([1, 21, 512, 512])\n"
     ]
    }
   ],
   "source": [
    "# model output test\n",
    "num_classes = 21\n",
    "backbone = VGG16()\n",
    "classifier = classifier(num_classes)\n",
    "context_module = BasicContextModule(num_classes)\n",
    "\n",
    "model = DilatedNet(backbone=backbone, classifier=classifier, context_module=context_module)\n",
    "\n",
    "\n",
    "model.eval()\n",
    "image = torch.randn(1, 3, 512, 512)\n",
    "print(\"input:\", image.shape)\n",
    "print(\"output:\", model(image).shape)"
   ]
  },
  {
   "cell_type": "markdown",
   "metadata": {},
   "source": [
    "## CRF"
   ]
  },
  {
   "cell_type": "code",
   "execution_count": 2,
   "metadata": {
    "ExecuteTime": {
     "end_time": "2021-03-12T17:04:31.903501Z",
     "start_time": "2021-03-12T17:04:31.342501Z"
    }
   },
   "outputs": [],
   "source": [
    "import torch\n",
    "import torch.nn as nn\n",
    "from crfseg import CRF\n",
    "\n",
    "model = nn.Sequential(\n",
    "    nn.Identity(),  # your NN\n",
    "    CRF(n_spatial_dims=2)\n",
    ")\n",
    "\n",
    "batch_size, n_channels, spatial = 10, 3,(100, 100)\n",
    "x = torch.zeros(batch_size, n_channels, *spatial)\n",
    "log_proba = model(x)"
   ]
  },
  {
   "cell_type": "markdown",
   "metadata": {},
   "source": [
    "### Reference\n",
    "---\n",
    "\n",
    "- [Dilated Convolution for Semantic Image Segmentation using caffe](https://github.com/fyu/dilation/blob/master/network.py)"
   ]
  },
  {
   "cell_type": "code",
   "execution_count": null,
   "metadata": {},
   "outputs": [],
   "source": []
  }
 ],
 "metadata": {
  "hide_input": false,
  "kernelspec": {
   "display_name": "Python 3",
   "language": "python",
   "name": "python3"
  },
  "language_info": {
   "codemirror_mode": {
    "name": "ipython",
    "version": 3
   },
   "file_extension": ".py",
   "mimetype": "text/x-python",
   "name": "python",
   "nbconvert_exporter": "python",
   "pygments_lexer": "ipython3",
   "version": "3.7.1"
  },
  "toc": {
   "base_numbering": 1,
   "nav_menu": {},
   "number_sections": false,
   "sideBar": true,
   "skip_h1_title": false,
   "title_cell": "Table of Contents",
   "title_sidebar": "Contents",
   "toc_cell": false,
   "toc_position": {
    "height": "calc(100% - 180px)",
    "left": "10px",
    "top": "150px",
    "width": "301.59px"
   },
   "toc_section_display": true,
   "toc_window_display": true
  }
 },
 "nbformat": 4,
 "nbformat_minor": 2
}
